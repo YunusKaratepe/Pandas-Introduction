{
 "cells": [
  {
   "cell_type": "code",
   "execution_count": null,
   "id": "cd3fc246",
   "metadata": {},
   "outputs": [],
   "source": [
    "import pandas as pd\n",
    "\n",
    "df = pd.read_csv('./pdata/modified.txt', delimiter='\\t')\n",
    "\n",
    "df"
   ]
  },
  {
   "cell_type": "code",
   "execution_count": null,
   "id": "73eacaa0",
   "metadata": {
    "scrolled": true
   },
   "outputs": [],
   "source": [
    "electric_pokes = df.loc[(df['Type 1'] == 'Electric') | (df['Type 2'] == 'Electric')]\n",
    "electric_pokes.to_csv('./pdata/electric_pokes.txt', sep='\\t', index=False)\n",
    "electric_pokes.to_excel('./pdata/electric_pokes.xlsx', index=False)\n",
    "\n",
    "df.loc[(~(df['Type 1'] == 'Grass') | (df['Type 2'] == 'Grass')) & (df['HP'] > 150)]"
   ]
  },
  {
   "cell_type": "code",
   "execution_count": null,
   "id": "81af3cbc",
   "metadata": {
    "scrolled": true
   },
   "outputs": [],
   "source": [
    "electric_pokes.reset_index(drop=True, inplace=True)\n",
    "electric_pokes"
   ]
  },
  {
   "cell_type": "code",
   "execution_count": null,
   "id": "31a5cf4f",
   "metadata": {
    "scrolled": false
   },
   "outputs": [],
   "source": [
    "import re\n",
    "\n",
    "df.loc[df['Name'].str.contains('Mega')]\n",
    "df.loc[~df['Name'].str.contains('Mega')] # ~ means not\n",
    "df.loc[df['Type 1'].str.contains('Fire|Grass', regex=True)]\n",
    "df.loc[df['Name'].str.contains('^Pi *', regex=True, flags=re.I)] # flags=re.I -> ignore case sens"
   ]
  },
  {
   "cell_type": "markdown",
   "id": "22ce1635",
   "metadata": {},
   "source": [
    "# Conditional Changes"
   ]
  },
  {
   "cell_type": "code",
   "execution_count": null,
   "id": "d63ff5b3",
   "metadata": {},
   "outputs": [],
   "source": [
    "# Rename column\n",
    "df.loc[df['Type 1'] == 'Flamer', 'Type 1'] = 'Fire'\n",
    "df.loc[df['Type 1'] == 'Fire']"
   ]
  },
  {
   "cell_type": "code",
   "execution_count": null,
   "id": "75c0ec8b",
   "metadata": {},
   "outputs": [],
   "source": [
    "df.loc[df['Type 1'] == 'Electric', 'Legendary'] = True\n",
    "df.loc[df['Type 1'] == 'Electric']"
   ]
  },
  {
   "cell_type": "code",
   "execution_count": null,
   "id": "3310b9c9",
   "metadata": {},
   "outputs": [],
   "source": [
    "df = pd.read_csv('./pdata/modified.txt', delimiter='\\t')"
   ]
  },
  {
   "cell_type": "code",
   "execution_count": null,
   "id": "1be63f50",
   "metadata": {},
   "outputs": [],
   "source": [
    "df.loc[df['Total'] > 500, ['Generation', 'Legendary']] = ['Test', 'Test 2']\n",
    "\n",
    "df"
   ]
  },
  {
   "cell_type": "markdown",
   "id": "811db56f",
   "metadata": {},
   "source": [
    "# Aggregate Statistics (Group by)"
   ]
  },
  {
   "cell_type": "code",
   "execution_count": null,
   "id": "11892bc1",
   "metadata": {},
   "outputs": [],
   "source": [
    "df.groupby(['Type 1']).mean().sort_values('Total', ascending=False)\n",
    "\n",
    "# df.groupby(['Type 1']).count()\n",
    "df['count'] = 1\n",
    "df.groupby(['Type 1']).count()['count']\n",
    "\n",
    "df.groupby(['Type 1', 'Type 2']).count()['count']"
   ]
  },
  {
   "cell_type": "markdown",
   "id": "53024af4",
   "metadata": {},
   "source": [
    "# Reading Chunks of a File"
   ]
  },
  {
   "cell_type": "code",
   "execution_count": 89,
   "id": "1ed60078",
   "metadata": {
    "scrolled": true
   },
   "outputs": [
    {
     "name": "stdout",
     "output_type": "stream",
     "text": [
      "     #                   Name  Type 1  Type 2  Total   HP  Attack  Defense  \\\n",
      "0    1              Bulbasaur   Grass  Poison    318   45      49       49   \n",
      "1    2                Ivysaur   Grass  Poison    405   60      62       63   \n",
      "2    3               Venusaur   Grass  Poison    525   80      82       83   \n",
      "3    3  VenusaurMega Venusaur   Grass  Poison    625   80     100      123   \n",
      "4    4             Charmander    Fire     NaN    309   39      52       43   \n",
      "..  ..                    ...     ...     ...    ...  ...     ...      ...   \n",
      "95  88                 Grimer  Poison     NaN    325   80      80       50   \n",
      "96  89                    Muk  Poison     NaN    500  105     105       75   \n",
      "97  90               Shellder   Water     NaN    305   30      65      100   \n",
      "98  91               Cloyster   Water     Ice    525   50      95      180   \n",
      "99  92                 Gastly   Ghost  Poison    310   30      35       30   \n",
      "\n",
      "    Sp. Atk  Sp. Def  Speed  Generation  Legendary  \n",
      "0        65       65     45           1      False  \n",
      "1        80       80     60           1      False  \n",
      "2       100      100     80           1      False  \n",
      "3       122      120     80           1      False  \n",
      "4        60       50     65           1      False  \n",
      "..      ...      ...    ...         ...        ...  \n",
      "95       40       50     25           1      False  \n",
      "96       65      100     50           1      False  \n",
      "97       45       25     40           1      False  \n",
      "98       85       45     70           1      False  \n",
      "99      100       35     80           1      False  \n",
      "\n",
      "[100 rows x 13 columns]\n"
     ]
    }
   ],
   "source": [
    "for df in pd.read_csv('./pdata/modified.csv', chunksize=100):\n",
    "    print(df)\n",
    "    break \n"
   ]
  }
 ],
 "metadata": {
  "kernelspec": {
   "display_name": "mlcourse",
   "language": "python",
   "name": "mlcourse"
  },
  "language_info": {
   "codemirror_mode": {
    "name": "ipython",
    "version": 3
   },
   "file_extension": ".py",
   "mimetype": "text/x-python",
   "name": "python",
   "nbconvert_exporter": "python",
   "pygments_lexer": "ipython3",
   "version": "3.8.8"
  }
 },
 "nbformat": 4,
 "nbformat_minor": 5
}
